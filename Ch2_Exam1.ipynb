{
  "nbformat": 4,
  "nbformat_minor": 0,
  "metadata": {
    "colab": {
      "name": "Ch2_Exam1.ipynb",
      "provenance": [],
      "collapsed_sections": [
        "7tsPYoTTP2K2"
      ],
      "authorship_tag": "ABX9TyMhC/0AF1nALGr8uQbo6Mft",
      "include_colab_link": true
    },
    "kernelspec": {
      "name": "python3",
      "display_name": "Python 3"
    }
  },
  "cells": [
    {
      "cell_type": "markdown",
      "metadata": {
        "id": "view-in-github",
        "colab_type": "text"
      },
      "source": [
        "<a href=\"https://colab.research.google.com/github/arashash/deep_exercises/blob/main/Ch2_Exam1.ipynb\" target=\"_parent\"><img src=\"https://colab.research.google.com/assets/colab-badge.svg\" alt=\"Open In Colab\"/></a>"
      ]
    },
    {
      "cell_type": "markdown",
      "metadata": {
        "id": "LuV1iT-pmakl"
      },
      "source": [
        "# Chapter 2 - Linear Algebra"
      ]
    },
    {
      "cell_type": "markdown",
      "metadata": {
        "id": "LOmnQpMN_wxy"
      },
      "source": [
        "## 2.1 Scalars, Vectors, Matrices and Tensors"
      ]
    },
    {
      "cell_type": "markdown",
      "metadata": {
        "id": "7tsPYoTTP2K2"
      },
      "source": [
        "### Q1 [10 Points, M]\n",
        "Denote the set of all n-dimensional binary vectors with Cartesian product notation"
      ]
    },
    {
      "cell_type": "markdown",
      "metadata": {
        "id": "jECU4AZ4P2bM"
      },
      "source": [
        "### Q2 [10 Points, S]\n",
        "Given the vector\n",
        "$\n",
        "\\boldsymbol{x}=\\left[\\begin{array}{c}\n",
        "x_{1} \\\\\n",
        "x_{2} \\\\\n",
        "x_{3} \\\\\n",
        "x_{4} \\\\\n",
        "\\end{array}\\right]\n",
        "$, \n",
        "and the set \n",
        "$\n",
        "S = \\{2, 4\\}\n",
        "$,\n",
        "obtain the vectors $\\boldsymbol{x}_{S}$ and $\\boldsymbol{x}_{-S}$"
      ]
    },
    {
      "cell_type": "markdown",
      "metadata": {
        "id": "01lFTWvbSVEp"
      },
      "source": [
        "### Q3 [20 Points, S]\n",
        "Evaluate the following expressions with broadcasting rules,\n",
        "\n",
        "$$\n",
        "\\left[\\begin{array}{lll}\n",
        "0 & 1 & 2\n",
        "\\end{array}\\right]+[5]=\n",
        "$$\n",
        "\n",
        "$$\n",
        "\\left[\\begin{array}{lll}\n",
        "1 & 1 & 1 \\\\\n",
        "1 & 1 & 1 \\\\\n",
        "1 & 1 & 1\n",
        "\\end{array}\\right]+\\left[\\begin{array}{lll}\n",
        "0 & 1 & 1\n",
        "\\end{array}\\right]=\n",
        "$$\n",
        "\n",
        "$$\n",
        "\\left[\\begin{array}{l}\n",
        "0 \\\\\n",
        "1 \\\\\n",
        "2\n",
        "\\end{array}\\right]+\\left[\\begin{array}{ll}\n",
        "0 & 1 & 2\n",
        "\\end{array}\\right]=\n",
        "$$"
      ]
    },
    {
      "cell_type": "markdown",
      "metadata": {
        "id": "hdySCy1VkuU9"
      },
      "source": [
        "## 2.2-3 Multiplying Matrices and Vectors and Identity and Inverse Matrices"
      ]
    },
    {
      "cell_type": "markdown",
      "metadata": {
        "id": "AxzdUmEC8h58"
      },
      "source": [
        "### Q4 [20 Points, H]\n",
        "Let $A$ be a $2 \\times 2$ matrix, if $A B=B A$ for every $B$ of the size $2 \\times 2$, Prove that:\n",
        "$$\n",
        "A=\\left[\\begin{array}{ll}\n",
        "a & 0 \\\\\n",
        "0 & a\n",
        "\\end{array}\\right], \\\n",
        "a \\in \\mathbb{R}\n",
        "$$\n"
      ]
    },
    {
      "cell_type": "markdown",
      "metadata": {
        "id": "U-lmV3vBlLTP"
      },
      "source": [
        "## 2.4 Linear Dependence and Span"
      ]
    },
    {
      "cell_type": "markdown",
      "metadata": {
        "id": "RIeFUG06JJzN"
      },
      "source": [
        "### Q5 [10 Points, H]\n",
        "Prove that if a linear system of equations have two solutions, then it has infinitely many solutions."
      ]
    },
    {
      "cell_type": "markdown",
      "metadata": {
        "id": "4-dlO3Z8LXVR"
      },
      "source": [
        "### Q6 [5 Points, M]\n",
        "Given $A x=0$, where $A \\in \\mathbb{R}^{m \\times n}$ is any matrix, and $x \\in \\mathbb{R}^{n}$ is a vector of unknown variables to be solved, what is the condition such that there is infinitely many solutions?"
      ]
    },
    {
      "cell_type": "markdown",
      "metadata": {
        "id": "cKYMhAu3lbJo"
      },
      "source": [
        "## 2.5 Norms"
      ]
    },
    {
      "cell_type": "markdown",
      "metadata": {
        "id": "MTee3Wtg5fq5"
      },
      "source": [
        "### Q7 [15 Points, M]\n",
        "Prove that **Max Norm** follows these conditions,\n",
        "$$\n",
        "\\begin{align}\n",
        "f(\\boldsymbol{x})=0 \\Rightarrow \\boldsymbol{x}=\\mathbf{0} \\\\\n",
        "f(\\boldsymbol{x}+\\boldsymbol{y}) \\leq f(\\boldsymbol{x})+f(\\boldsymbol{y}) \\\\\n",
        "\\forall \\alpha \\in \\mathbb{R}, f(\\alpha \\boldsymbol{x})=|\\alpha| f(\\boldsymbol{x})\n",
        "\\end{align}\n",
        "$$"
      ]
    },
    {
      "cell_type": "markdown",
      "metadata": {
        "id": "-Uum7oPKm673"
      },
      "source": [
        "## 2.6 Special Kinds of Matrices and Vectors"
      ]
    },
    {
      "cell_type": "markdown",
      "metadata": {
        "id": "VwA8mFK8idRa"
      },
      "source": [
        "### Q8 [10 Points, M]\n",
        "Solve the following system of equations,\n",
        "\n",
        "$$\n",
        "\\frac{1}{2}\\left[\\begin{array}{cccc}\n",
        "1 & 1 & 1 & 1 \\\\\n",
        "1 & 1 & -1 & -1 \\\\\n",
        "1 & -1 & 1 & -1 \\\\\n",
        "1 & -1 & -1 & 1\n",
        "\\end{array}\\right] \\left[\\begin{array}{c}\n",
        "x_{1} \\\\\n",
        "x_{2} \\\\\n",
        "x_{3} \\\\\n",
        "x_{4} \\\\\n",
        "\\end{array}\\right] = \\left[\\begin{array}{c}\n",
        "1 \\\\\n",
        "2 \\\\\n",
        "3 \\\\\n",
        "4 \\\\\n",
        "\\end{array}\\right]\n",
        "$$"
      ]
    }
  ]
}