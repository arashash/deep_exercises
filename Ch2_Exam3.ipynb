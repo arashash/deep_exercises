{
  "nbformat": 4,
  "nbformat_minor": 0,
  "metadata": {
    "colab": {
      "name": "Ch2_Exam3.ipynb",
      "provenance": [],
      "collapsed_sections": [],
      "authorship_tag": "ABX9TyNlPWPTGi8A69cit1H3X70l",
      "include_colab_link": true
    },
    "kernelspec": {
      "name": "python3",
      "display_name": "Python 3"
    }
  },
  "cells": [
    {
      "cell_type": "markdown",
      "metadata": {
        "id": "view-in-github",
        "colab_type": "text"
      },
      "source": [
        "<a href=\"https://colab.research.google.com/github/arashash/deep_exercises/blob/main/Ch2_Exam3.ipynb\" target=\"_parent\"><img src=\"https://colab.research.google.com/assets/colab-badge.svg\" alt=\"Open In Colab\"/></a>"
      ]
    },
    {
      "cell_type": "code",
      "metadata": {
        "id": "mnEHKNFxEeaj"
      },
      "source": [
        "import numpy as np\n",
        "import matplotlib.pyplot as plt   "
      ],
      "execution_count": null,
      "outputs": []
    },
    {
      "cell_type": "markdown",
      "metadata": {
        "id": "LuV1iT-pmakl"
      },
      "source": [
        "# Chapter 2 - Linear Algebra"
      ]
    },
    {
      "cell_type": "markdown",
      "metadata": {
        "id": "LOmnQpMN_wxy"
      },
      "source": [
        "## 2.9 The Moore-Penrose Pseudoinverse"
      ]
    },
    {
      "cell_type": "markdown",
      "metadata": {
        "id": "vL1z5qc97SWE"
      },
      "source": [
        "Use this limit definition of Moore-Penrose Pseudoinverse whose proof can\n",
        "be found on p. 19 in Albert, A., *Regression and the Moore-Penrose Pseudoinverse*, Academic Press, New York, 1972.\n",
        "\n",
        "*Theorem*: Let $A \\in \\mathbb{R}_{r}^{m \\times n} .$ Then\n",
        "$$\n",
        "\\begin{aligned}\n",
        "A^{+} &=\\lim _{\\delta \\rightarrow 0}\\left(A^{T} A+\\delta^{2} I\\right)^{-1} A^{T} \\\\\n",
        "&=\\lim _{\\delta \\rightarrow 0} A^{T}\\left(A A^{T}+\\delta^{2} I\\right)^{-1}\n",
        "\\end{aligned}\n",
        "$$"
      ]
    },
    {
      "cell_type": "markdown",
      "metadata": {
        "id": "eLR8tmXDmstm"
      },
      "source": [
        "### Q1 [20 Points, S]\n",
        "Use the given limit definition of the pseudoinverse to compute the pseudoinverse of $\\left[\\begin{array}{ll}1 & 1 \\\\ 2 & 2\\end{array}\\right]$"
      ]
    },
    {
      "cell_type": "markdown",
      "metadata": {
        "id": "Pi4tfY4Q-Xqa"
      },
      "source": [
        "### Q2 [15 Points, H]\n",
        "Use the given limit definition to prove that, \n",
        "$$\n",
        "\\left(A^{T}\\right)^{+}=\\left(A^{+}\\right)^{T}\n",
        "$$"
      ]
    },
    {
      "cell_type": "markdown",
      "metadata": {
        "id": "1ydBm_BDft85"
      },
      "source": [
        "### Q3 [10 Points, M]\n",
        "Use the pseudoinverse to solve this overdetermined system of linear equations and plot the solution point in given plot. Feel free to calculate the pseudoinverse programmatically. Did you expect the point to be at the center of triangle?\n",
        "\n",
        "$$\n",
        "\\left\\{\\begin{array}{l}\n",
        "-2 x_{1}-x_{2}=-2 \\\\\n",
        "4 x_{1}-x_{2}=-8 \\\\\n",
        "-1 x_{1}-x_{2}=-2\n",
        "\\end{array}\\right.\n",
        "$$\n",
        "\n",
        "Bonus [10 Points]: what is the condition for the solution to be at the center of the triangle? Test your condition by modifying the system and plotting the solution.\n"
      ]
    },
    {
      "cell_type": "code",
      "metadata": {
        "id": "sdYwOG_V0JHt",
        "cellView": "form",
        "outputId": "cc99f882-cc09-4eb8-f248-95be1556afef",
        "colab": {
          "base_uri": "https://localhost:8080/",
          "height": 269
        }
      },
      "source": [
        "#@markdown\n",
        "x1 = np.linspace(-5, 5, 1000)\n",
        "x2_1 = -2*x1 + 2\n",
        "x2_2 = 4*x1 + 8\n",
        "x2_3 = -1*x1 + 2\n",
        "\n",
        "plt.plot(x1, x2_1)\n",
        "plt.plot(x1, x2_2)\n",
        "plt.plot(x1, x2_3)\n",
        "plt.xlim(-2., 1)\n",
        "plt.ylim(1, 5)\n",
        "plt.show()"
      ],
      "execution_count": null,
      "outputs": [
        {
          "output_type": "display_data",
          "data": {
            "image/png": "[encoded data removed]",
            "text/plain": [
              "<Figure size 432x288 with 1 Axes>"
            ]
          },
          "metadata": {
            "tags": [],
            "needs_background": "light"
          }
        }
      ]
    },
    {
      "cell_type": "markdown",
      "metadata": {
        "id": "erWEQN-iMPRO"
      },
      "source": [
        "### Q4 [20 Points, M]\n",
        "Consider this theorem that gives the characteristic of the pseudoinverse proved by Penrose in 1956.\n",
        "\n",
        "*Theorem*: Let $A \\in \\mathbb{R}_{r}^{m \\times n} .$ Then $G=A^{+}$ if and only if\n",
        "\n",
        "(P1) $A G A=A$\n",
        "\n",
        "(P2) $G A G=G$\n",
        "\n",
        "(P3) $(A G)^{T}=A G$\n",
        "\n",
        "(P4) $(G A)^{T}=G A$\n",
        "\n",
        "Furthermore, $A^{+}$ always exists and is unique. \n",
        "\n",
        "Using this Theorem, prove that:\n",
        "$$\n",
        "A^{+}=V D^{+} U^{\\top}\n",
        "$$"
      ]
    },
    {
      "cell_type": "markdown",
      "metadata": {
        "id": "EdXr-6bHH1O-"
      },
      "source": [
        "## 2.10 The Trace Operator"
      ]
    },
    {
      "cell_type": "markdown",
      "metadata": {
        "id": "yOklD60FFkaL"
      },
      "source": [
        "### Q5 [10 Points, S]\n",
        "Another advantage of using Trace operator is having simple derivatives. Consider this matrix derivative,\n",
        "$$\n",
        "\\frac{\\partial}{\\partial \\mathbf{X}} \\operatorname{Tr}\\left(\\mathbf{X}^{T} \\mathbf{X}\\right)=\\frac{\\partial}{\\partial \\mathbf{X}} \\operatorname{Tr}\\left(\\mathbf{X} \\mathbf{X}^{T}\\right)=2 \\mathbf{X}\n",
        "$$\n",
        "Use this to calculate,\n",
        "$$\n",
        "\\frac{\\partial}{\\partial \\mathbf{A}} \\|A\\|_{F}^2\n",
        "$$"
      ]
    },
    {
      "cell_type": "markdown",
      "metadata": {
        "id": "HfqNY8tXseDI"
      },
      "source": [
        "### Q6 [10 Points, M]\n",
        "Let $\\mathbf{v}$ and $\\mathbf{w}$ be two $n \\times 1$ column vectors.\n",
        "Prove that $\\operatorname{Tr}\\left(\\mathbf{v} \\mathbf{w}^{\\mathrm{T}}\\right)=\\mathbf{v}^{\\mathrm{T}} \\mathbf{w}$"
      ]
    },
    {
      "cell_type": "markdown",
      "metadata": {
        "id": "X_MUDAQd34aM"
      },
      "source": [
        "## 2.11 The Determinant"
      ]
    },
    {
      "cell_type": "markdown",
      "metadata": {
        "id": "uw7gN6YQ3MAE"
      },
      "source": [
        "### Q7 [15 Points, H]\n",
        "Show that the products of singular values in $A=U \\Sigma V^{T}$ is equal to the absolute value of the determinant,\n",
        "\n",
        "$$\n",
        "|\\operatorname{det}(A)|=\\prod_{i} \\operatorname{diag}(\\Sigma)_{i}\n",
        "$$"
      ]
    }
  ]
}