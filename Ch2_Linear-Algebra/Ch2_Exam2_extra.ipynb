{
  "nbformat": 4,
  "nbformat_minor": 0,
  "metadata": {
    "colab": {
      "name": "Ch2_Exam2_extra.ipynb",
      "provenance": [],
      "collapsed_sections": [],
      "authorship_tag": "ABX9TyNWC2Rx0QubCK0d1VpUE/K0",
      "include_colab_link": true
    },
    "kernelspec": {
      "name": "python3",
      "display_name": "Python 3"
    },
    "widgets": {
      "application/vnd.jupyter.widget-state+json": {
        "3e50cfa140e5490e9dc2ae66c94ffc69": {
          "model_module": "@jupyter-widgets/controls",
          "model_name": "VBoxModel",
          "state": {
            "_view_name": "VBoxView",
            "_dom_classes": [
              "widget-interact"
            ],
            "_model_name": "VBoxModel",
            "_view_module": "@jupyter-widgets/controls",
            "_model_module_version": "1.5.0",
            "_view_count": null,
            "_view_module_version": "1.5.0",
            "box_style": "",
            "layout": "IPY_MODEL_27dba58aadea4e49b7c10d22887d3281",
            "_model_module": "@jupyter-widgets/controls",
            "children": [
              "IPY_MODEL_c0454d54def44cabaea69df28532fe81",
              "IPY_MODEL_caf7c2b1c9324084a265bd7313e747ce",
              "IPY_MODEL_102a641e952e461596880f59d3f68f04"
            ]
          }
        },
        "27dba58aadea4e49b7c10d22887d3281": {
          "model_module": "@jupyter-widgets/base",
          "model_name": "LayoutModel",
          "state": {
            "_view_name": "LayoutView",
            "grid_template_rows": null,
            "right": null,
            "justify_content": null,
            "_view_module": "@jupyter-widgets/base",
            "overflow": null,
            "_model_module_version": "1.2.0",
            "_view_count": null,
            "flex_flow": null,
            "width": null,
            "min_width": null,
            "border": null,
            "align_items": null,
            "bottom": null,
            "_model_module": "@jupyter-widgets/base",
            "top": null,
            "grid_column": null,
            "overflow_y": null,
            "overflow_x": null,
            "grid_auto_flow": null,
            "grid_area": null,
            "grid_template_columns": null,
            "flex": null,
            "_model_name": "LayoutModel",
            "justify_items": null,
            "grid_row": null,
            "max_height": null,
            "align_content": null,
            "visibility": null,
            "align_self": null,
            "height": null,
            "min_height": null,
            "padding": null,
            "grid_auto_rows": null,
            "grid_gap": null,
            "max_width": null,
            "order": null,
            "_view_module_version": "1.2.0",
            "grid_template_areas": null,
            "object_position": null,
            "object_fit": null,
            "grid_auto_columns": null,
            "margin": null,
            "display": null,
            "left": null
          }
        },
        "c0454d54def44cabaea69df28532fe81": {
          "model_module": "@jupyter-widgets/controls",
          "model_name": "IntSliderModel",
          "state": {
            "_view_name": "IntSliderView",
            "style": "IPY_MODEL_4babd44908e0407581493f2a61020fab",
            "_dom_classes": [],
            "description": "k",
            "step": 1,
            "_model_name": "IntSliderModel",
            "orientation": "horizontal",
            "max": 100,
            "_view_module": "@jupyter-widgets/controls",
            "_model_module_version": "1.5.0",
            "value": 50,
            "_view_count": null,
            "disabled": false,
            "_view_module_version": "1.5.0",
            "min": 0,
            "continuous_update": true,
            "readout_format": "d",
            "description_tooltip": null,
            "readout": true,
            "_model_module": "@jupyter-widgets/controls",
            "layout": "IPY_MODEL_df6ff8a19fe34adab907e4fc0057e40f"
          }
        },
        "caf7c2b1c9324084a265bd7313e747ce": {
          "model_module": "@jupyter-widgets/controls",
          "model_name": "FloatSliderModel",
          "state": {
            "_view_name": "FloatSliderView",
            "style": "IPY_MODEL_61043e7fd69a47cbb98a9ca0c21bca8d",
            "_dom_classes": [],
            "description": "std",
            "step": 0.01,
            "_model_name": "FloatSliderModel",
            "orientation": "horizontal",
            "max": 1,
            "_view_module": "@jupyter-widgets/controls",
            "_model_module_version": "1.5.0",
            "value": 0.29,
            "_view_count": null,
            "disabled": false,
            "_view_module_version": "1.5.0",
            "min": 0,
            "continuous_update": true,
            "readout_format": ".2f",
            "description_tooltip": null,
            "readout": true,
            "_model_module": "@jupyter-widgets/controls",
            "layout": "IPY_MODEL_d09fd2b5db214c8090aed938ab0ce978"
          }
        },
        "102a641e952e461596880f59d3f68f04": {
          "model_module": "@jupyter-widgets/output",
          "model_name": "OutputModel",
          "state": {
            "_view_name": "OutputView",
            "msg_id": "",
            "_dom_classes": [],
            "_model_name": "OutputModel",
            "outputs": [
              {
                "output_type": "display_data",
                "metadata": {
                  "tags": [],
                  "needs_background": "light"
                },
                "image/png": "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\n",
                "text/plain": "<Figure size 432x288 with 1 Axes>"
              }
            ],
            "_view_module": "@jupyter-widgets/output",
            "_model_module_version": "1.0.0",
            "_view_count": null,
            "_view_module_version": "1.0.0",
            "layout": "IPY_MODEL_e2c0455574b54be5895ba7c9a814052c",
            "_model_module": "@jupyter-widgets/output"
          }
        },
        "4babd44908e0407581493f2a61020fab": {
          "model_module": "@jupyter-widgets/controls",
          "model_name": "SliderStyleModel",
          "state": {
            "_view_name": "StyleView",
            "handle_color": null,
            "_model_name": "SliderStyleModel",
            "description_width": "",
            "_view_module": "@jupyter-widgets/base",
            "_model_module_version": "1.5.0",
            "_view_count": null,
            "_view_module_version": "1.2.0",
            "_model_module": "@jupyter-widgets/controls"
          }
        },
        "df6ff8a19fe34adab907e4fc0057e40f": {
          "model_module": "@jupyter-widgets/base",
          "model_name": "LayoutModel",
          "state": {
            "_view_name": "LayoutView",
            "grid_template_rows": null,
            "right": null,
            "justify_content": null,
            "_view_module": "@jupyter-widgets/base",
            "overflow": null,
            "_model_module_version": "1.2.0",
            "_view_count": null,
            "flex_flow": null,
            "width": null,
            "min_width": null,
            "border": null,
            "align_items": null,
            "bottom": null,
            "_model_module": "@jupyter-widgets/base",
            "top": null,
            "grid_column": null,
            "overflow_y": null,
            "overflow_x": null,
            "grid_auto_flow": null,
            "grid_area": null,
            "grid_template_columns": null,
            "flex": null,
            "_model_name": "LayoutModel",
            "justify_items": null,
            "grid_row": null,
            "max_height": null,
            "align_content": null,
            "visibility": null,
            "align_self": null,
            "height": null,
            "min_height": null,
            "padding": null,
            "grid_auto_rows": null,
            "grid_gap": null,
            "max_width": null,
            "order": null,
            "_view_module_version": "1.2.0",
            "grid_template_areas": null,
            "object_position": null,
            "object_fit": null,
            "grid_auto_columns": null,
            "margin": null,
            "display": null,
            "left": null
          }
        },
        "61043e7fd69a47cbb98a9ca0c21bca8d": {
          "model_module": "@jupyter-widgets/controls",
          "model_name": "SliderStyleModel",
          "state": {
            "_view_name": "StyleView",
            "handle_color": null,
            "_model_name": "SliderStyleModel",
            "description_width": "",
            "_view_module": "@jupyter-widgets/base",
            "_model_module_version": "1.5.0",
            "_view_count": null,
            "_view_module_version": "1.2.0",
            "_model_module": "@jupyter-widgets/controls"
          }
        },
        "d09fd2b5db214c8090aed938ab0ce978": {
          "model_module": "@jupyter-widgets/base",
          "model_name": "LayoutModel",
          "state": {
            "_view_name": "LayoutView",
            "grid_template_rows": null,
            "right": null,
            "justify_content": null,
            "_view_module": "@jupyter-widgets/base",
            "overflow": null,
            "_model_module_version": "1.2.0",
            "_view_count": null,
            "flex_flow": null,
            "width": null,
            "min_width": null,
            "border": null,
            "align_items": null,
            "bottom": null,
            "_model_module": "@jupyter-widgets/base",
            "top": null,
            "grid_column": null,
            "overflow_y": null,
            "overflow_x": null,
            "grid_auto_flow": null,
            "grid_area": null,
            "grid_template_columns": null,
            "flex": null,
            "_model_name": "LayoutModel",
            "justify_items": null,
            "grid_row": null,
            "max_height": null,
            "align_content": null,
            "visibility": null,
            "align_self": null,
            "height": null,
            "min_height": null,
            "padding": null,
            "grid_auto_rows": null,
            "grid_gap": null,
            "max_width": null,
            "order": null,
            "_view_module_version": "1.2.0",
            "grid_template_areas": null,
            "object_position": null,
            "object_fit": null,
            "grid_auto_columns": null,
            "margin": null,
            "display": null,
            "left": null
          }
        },
        "e2c0455574b54be5895ba7c9a814052c": {
          "model_module": "@jupyter-widgets/base",
          "model_name": "LayoutModel",
          "state": {
            "_view_name": "LayoutView",
            "grid_template_rows": null,
            "right": null,
            "justify_content": null,
            "_view_module": "@jupyter-widgets/base",
            "overflow": null,
            "_model_module_version": "1.2.0",
            "_view_count": null,
            "flex_flow": null,
            "width": null,
            "min_width": null,
            "border": null,
            "align_items": null,
            "bottom": null,
            "_model_module": "@jupyter-widgets/base",
            "top": null,
            "grid_column": null,
            "overflow_y": null,
            "overflow_x": null,
            "grid_auto_flow": null,
            "grid_area": null,
            "grid_template_columns": null,
            "flex": null,
            "_model_name": "LayoutModel",
            "justify_items": null,
            "grid_row": null,
            "max_height": null,
            "align_content": null,
            "visibility": null,
            "align_self": null,
            "height": null,
            "min_height": null,
            "padding": null,
            "grid_auto_rows": null,
            "grid_gap": null,
            "max_width": null,
            "order": null,
            "_view_module_version": "1.2.0",
            "grid_template_areas": null,
            "object_position": null,
            "object_fit": null,
            "grid_auto_columns": null,
            "margin": null,
            "display": null,
            "left": null
          }
        }
      }
    }
  },
  "cells": [
    {
      "cell_type": "markdown",
      "metadata": {
        "id": "view-in-github",
        "colab_type": "text"
      },
      "source": [
        "<a href=\"https://colab.research.google.com/github/arashash/deep_exercises/blob/main/Ch2_Linear-Algebra/Ch2_Exam2_extra.ipynb\" target=\"_parent\"><img src=\"https://colab.research.google.com/assets/colab-badge.svg\" alt=\"Open In Colab\"/></a>"
      ]
    },
    {
      "cell_type": "code",
      "metadata": {
        "id": "EK3qr9Eg2ser"
      },
      "source": [
        "import matplotlib.pyplot as plt\n",
        "import ipywidgets as widgets\n",
        "import numpy as np\n",
        "import torch"
      ],
      "execution_count": 1,
      "outputs": []
    },
    {
      "cell_type": "markdown",
      "metadata": {
        "id": "LuV1iT-pmakl"
      },
      "source": [
        "# Chapter 2 - Linear Algebra"
      ]
    },
    {
      "cell_type": "markdown",
      "metadata": {
        "id": "LOmnQpMN_wxy"
      },
      "source": [
        "## 2.7 Eigendecomposition"
      ]
    },
    {
      "cell_type": "markdown",
      "metadata": {
        "id": "x5ynJ45Rty1s"
      },
      "source": [
        "### Q1 [30 points, S]\n",
        "Using [Gershgorin Circle Theorem](https://en.wikipedia.org/wiki/Gershgorin_circle_theorem), give the bounds of the eigenvalues of matrix $A$,\n",
        "$$\n",
        "\\begin{split}\\mathbf{A} = \\begin{bmatrix}\n",
        "1.0 & 0.1 & 0.1 & 0.1 \\\\\n",
        "0.1 & 3.0 & 0.2 & 0.3 \\\\\n",
        "0.1 & 0.2 & 5.0 & 0.5 \\\\\n",
        "0.1 & 0.3 & 0.5 & 9.0\n",
        "\\end{bmatrix}\\end{split}\n",
        "$$\n",
        "\n",
        "Also explain, for any matrix $A$, under what condition the bounds are tight and can give good approximations for the eigenvalues?"
      ]
    },
    {
      "cell_type": "markdown",
      "metadata": {
        "id": "CjLcOnK76zNw"
      },
      "source": [
        "## Q2 [20 M, 20 H]\n",
        "Consider a deep (large N) feedforward network without activations consisting of same square matrices with dimenion $k\\times k$,\n",
        "$$\n",
        "\\mathbf{v}_{out} = \\mathbf{A}\\cdot \\mathbf{A}\\cdots \\mathbf{A} \\mathbf{v}_{in} = \\mathbf{A}^N \\mathbf{v}_{in}\n",
        "$$\n",
        "Using the widget below, determine how does the dimension of matrix and standard deviation of the random Gaussian initialization changes whether the output blows up?"
      ]
    },
    {
      "cell_type": "code",
      "metadata": {
        "id": "sdYwOG_V0JHt",
        "cellView": "form",
        "outputId": "88baa253-6825-440f-d395-e099d4b03973",
        "colab": {
          "base_uri": "https://localhost:8080/",
          "height": 290,
          "referenced_widgets": [
            "3e50cfa140e5490e9dc2ae66c94ffc69",
            "27dba58aadea4e49b7c10d22887d3281",
            "c0454d54def44cabaea69df28532fe81",
            "caf7c2b1c9324084a265bd7313e747ce",
            "102a641e952e461596880f59d3f68f04",
            "4babd44908e0407581493f2a61020fab",
            "df6ff8a19fe34adab907e4fc0057e40f",
            "61043e7fd69a47cbb98a9ca0c21bca8d",
            "d09fd2b5db214c8090aed938ab0ce978",
            "e2c0455574b54be5895ba7c9a814052c"
          ]
        }
      },
      "source": [
        "#@markdown Execute this cell to simulate the question for different dimensions\n",
        "@widgets.interact\n",
        "def plot_iterated_mapping(k=(0, 100, 1), std=(0, 1, 0.01)):\n",
        "  A = std*torch.randn(k, k, dtype=torch.float64)\n",
        "  v_in = torch.randn(k, 1, dtype=torch.float64)\n",
        "\n",
        "  # Calculate the sequence of norms after repeatedly applying `A`\n",
        "  norm_list = [torch.norm(v_in).item()]\n",
        "  for i in range(1, 100):\n",
        "      v_in = A @ v_in\n",
        "      norm_list.append(torch.norm(v_in).item())\n",
        "\n",
        "  plt.ylabel('Value')\n",
        "  plt.xlabel('Iteration')\n",
        "  plt.plot(torch.arange(0, 100), norm_list)"
      ],
      "execution_count": 12,
      "outputs": [
        {
          "output_type": "display_data",
          "data": {
            "image/png": "[encoded data removed]",
            "text/plain": [
              "<Figure size 432x288 with 1 Axes>"
            ]
          },
          "metadata": {
            "tags": [],
            "needs_background": "light"
          }
        }
      ]
    },
    {
      "cell_type": "markdown",
      "metadata": {
        "id": "3Ub8ZAmpCms5"
      },
      "source": [
        "Now using the same setup, write a function that estimates the average largest eigenvalue of A given the STD of the initialization and dimenion $k$. Then using your function and fixing STD, try many $k$ values and plot the estimated average largest eigenvalue vs $\\sqrt{k}$. Then using the jupyter interactive widget, plot it for different STD values. What relation do you observe between these three variables?"
      ]
    },
    {
      "cell_type": "markdown",
      "metadata": {
        "id": "oPdXe9bE6eT_"
      },
      "source": [
        "## 2.8 Singular Value Decomposition"
      ]
    },
    {
      "cell_type": "markdown",
      "metadata": {
        "id": "T3hObz_bSZ63"
      },
      "source": [
        "## Q3 [20 M, 10 H]\n",
        "\n",
        "Programmatically dowload [this](https://upload.wikimedia.org/wikipedia/en/7/7d/Lenna_%28test_image%29.png) picture and convert it to $512\\times 512$ grayscale and uint8 datatype and load it to a 2-D *Numpy* array and properly display it using *plt.imshow*. Then calculate the SVD of image and choose the top k singular values and set the rest equal to zero and display the image using the interactive Jupyter widget for different possible values of k. At which value of k do you start to see significant drop in image quality? How many Bytes does it take to store the original array? How many Bytes does it take to store the decomposed arrays when using only the top k singular values? Calculate the compression ratio for your selected ideal $k$ value. Save the array as JPEG and check the file size. whats the approximate JPEG compression rate?"
      ]
    }
  ]
}
