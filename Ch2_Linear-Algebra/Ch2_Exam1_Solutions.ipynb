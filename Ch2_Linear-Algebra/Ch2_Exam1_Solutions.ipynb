{
  "nbformat": 4,
  "nbformat_minor": 0,
  "metadata": {
    "colab": {
      "name": "Ch2_Exam1_Solutions.ipynb",
      "provenance": [],
      "collapsed_sections": [],
      "include_colab_link": true
    },
    "kernelspec": {
      "display_name": "Python 3",
      "language": "python",
      "name": "python3"
    },
    "language_info": {
      "codemirror_mode": {
        "name": "ipython",
        "version": 3
      },
      "file_extension": ".py",
      "mimetype": "text/x-python",
      "name": "python",
      "nbconvert_exporter": "python",
      "pygments_lexer": "ipython3",
      "version": "3.7.4"
    }
  },
  "cells": [
    {
      "cell_type": "markdown",
      "metadata": {
        "id": "view-in-github",
        "colab_type": "text"
      },
      "source": [
        "<a href=\"https://colab.research.google.com/github/arashash/deep_exercises/blob/main/Ch2_Exam1_Solutions.ipynb\" target=\"_parent\"><img src=\"https://colab.research.google.com/assets/colab-badge.svg\" alt=\"Open In Colab\"/></a>"
      ]
    },
    {
      "cell_type": "markdown",
      "metadata": {
        "id": "LuV1iT-pmakl"
      },
      "source": [
        "# Chapter 2 - Linear Algebra"
      ]
    },
    {
      "cell_type": "markdown",
      "metadata": {
        "id": "LOmnQpMN_wxy"
      },
      "source": [
        "## 2.1 Scalars, Vectors, Matrices and Tensors"
      ]
    },
    {
      "cell_type": "markdown",
      "metadata": {
        "id": "7tsPYoTTP2K2"
      },
      "source": [
        "### Q1 [10 Points, M]\n",
        "Denote the set of all n-dimensional binary vectors with Cartesian product notation"
      ]
    },
    {
      "cell_type": "markdown",
      "metadata": {
        "id": "bhmEFf3iGxe2"
      },
      "source": [
        "Solution:\n",
        "\n",
        "{0, 1}$^{n}$"
      ]
    },
    {
      "cell_type": "markdown",
      "metadata": {
        "id": "jECU4AZ4P2bM"
      },
      "source": [
        "### Q2 [10 Points, S]\n",
        "Given the vector\n",
        "$\n",
        "\\boldsymbol{x}=\\left[\\begin{array}{c}\n",
        "x_{1} \\\\\n",
        "x_{2} \\\\\n",
        "x_{3} \\\\\n",
        "x_{4} \\\\\n",
        "\\end{array}\\right]\n",
        "$, \n",
        "and the set \n",
        "$\n",
        "S = \\{2, 4\\}\n",
        "$,\n",
        "obtain the vectors $\\boldsymbol{x}_{S}$ and $\\boldsymbol{x}_{-S}$"
      ]
    },
    {
      "cell_type": "markdown",
      "metadata": {
        "id": "waTuNkhbGxe3"
      },
      "source": [
        "Solution:\n",
        "\n",
        "$x_{S} = \\left[\\begin{array}{c}\n",
        "x_{2} \\\\\n",
        "x_{4} \\\\\n",
        "\\end{array}\\right]$\n",
        "\n",
        "$x_{-S} = \\left[\\begin{array}{c}\n",
        "x_{1} \\\\\n",
        "x_{3} \\\\\n",
        "\\end{array}\\right]$"
      ]
    },
    {
      "cell_type": "markdown",
      "metadata": {
        "id": "01lFTWvbSVEp"
      },
      "source": [
        "### Q3 [20 Points, S]\n",
        "Evaluate the following expressions with broadcasting rules,\n",
        "\n",
        "$$\n",
        "\\left[\\begin{array}{lll}\n",
        "0 & 1 & 2\n",
        "\\end{array}\\right]+[5]=\n",
        "$$\n",
        "\n",
        "$$\n",
        "\\left[\\begin{array}{lll}\n",
        "1 & 1 & 1 \\\\\n",
        "1 & 1 & 1 \\\\\n",
        "1 & 1 & 1\n",
        "\\end{array}\\right]+\\left[\\begin{array}{lll}\n",
        "0 & 1 & 1\n",
        "\\end{array}\\right]=\n",
        "$$\n",
        "\n",
        "$$\n",
        "\\left[\\begin{array}{l}\n",
        "0 \\\\\n",
        "1 \\\\\n",
        "2\n",
        "\\end{array}\\right]+\\left[\\begin{array}{ll}\n",
        "0 & 1 & 2\n",
        "\\end{array}\\right]=\n",
        "$$"
      ]
    },
    {
      "cell_type": "code",
      "metadata": {
        "jupyter": {
          "source_hidden": true
        },
        "id": "Tmj5b7L3Gxe5",
        "cellView": "form",
        "outputId": "72b75b7b-ec03-40e2-8b20-0dabc7e5bff5"
      },
      "source": [
        "#@title\n",
        "# Adapted from astroML: see http://www.astroml.org/book_figures/appendix/fig_broadcast_visual.html\n",
        "import numpy as np\n",
        "from matplotlib import pyplot as plt\n",
        "\n",
        "#------------------------------------------------------------\n",
        "# Draw a figure and axis with no boundary\n",
        "fig = plt.figure(figsize=(6, 4.5), facecolor='w')\n",
        "ax = plt.axes([0, 0, 1, 1], xticks=[], yticks=[], frameon=False)\n",
        "\n",
        "\n",
        "def draw_cube(ax, xy, size, depth=0.4,\n",
        "              edges=None, label=None, label_kwargs=None, **kwargs):\n",
        "    \"\"\"draw and label a cube.  edges is a list of numbers between\n",
        "    1 and 12, specifying which of the 12 cube edges to draw\"\"\"\n",
        "    if edges is None:\n",
        "        edges = range(1, 13)\n",
        "\n",
        "    x, y = xy\n",
        "\n",
        "    if 1 in edges:\n",
        "        ax.plot([x, x + size],\n",
        "                [y + size, y + size], **kwargs)\n",
        "    if 2 in edges:\n",
        "        ax.plot([x + size, x + size],\n",
        "                [y, y + size], **kwargs)\n",
        "    if 3 in edges:\n",
        "        ax.plot([x, x + size],\n",
        "                [y, y], **kwargs)\n",
        "    if 4 in edges:\n",
        "        ax.plot([x, x],\n",
        "                [y, y + size], **kwargs)\n",
        "\n",
        "    if 5 in edges:\n",
        "        ax.plot([x, x + depth],\n",
        "                [y + size, y + depth + size], **kwargs)\n",
        "    if 6 in edges:\n",
        "        ax.plot([x + size, x + size + depth],\n",
        "                [y + size, y + depth + size], **kwargs)\n",
        "    if 7 in edges:\n",
        "        ax.plot([x + size, x + size + depth],\n",
        "                [y, y + depth], **kwargs)\n",
        "    if 8 in edges:\n",
        "        ax.plot([x, x + depth],\n",
        "                [y, y + depth], **kwargs)\n",
        "\n",
        "    if 9 in edges:\n",
        "        ax.plot([x + depth, x + depth + size],\n",
        "                [y + depth + size, y + depth + size], **kwargs)\n",
        "    if 10 in edges:\n",
        "        ax.plot([x + depth + size, x + depth + size],\n",
        "                [y + depth, y + depth + size], **kwargs)\n",
        "    if 11 in edges:\n",
        "        ax.plot([x + depth, x + depth + size],\n",
        "                [y + depth, y + depth], **kwargs)\n",
        "    if 12 in edges:\n",
        "        ax.plot([x + depth, x + depth],\n",
        "                [y + depth, y + depth + size], **kwargs)\n",
        "\n",
        "    if label:\n",
        "        if label_kwargs is None:\n",
        "            label_kwargs = {}\n",
        "        ax.text(x + 0.5 * size, y + 0.5 * size, label,\n",
        "                ha='center', va='center', **label_kwargs)\n",
        "\n",
        "solid = dict(c='black', ls='-', lw=1,\n",
        "             label_kwargs=dict(color='k'))\n",
        "dotted = dict(c='black', ls='-', lw=0.5, alpha=0.5,\n",
        "              label_kwargs=dict(color='gray'))\n",
        "depth = 0.3\n",
        "\n",
        "#------------------------------------------------------------\n",
        "# Draw top operation: vector plus scalar\n",
        "draw_cube(ax, (1, 10), 1, depth, [1, 2, 3, 4, 5, 6, 9], '0', **solid)\n",
        "draw_cube(ax, (2, 10), 1, depth, [1, 2, 3, 6, 9], '1', **solid)\n",
        "draw_cube(ax, (3, 10), 1, depth, [1, 2, 3, 6, 7, 9, 10], '2', **solid)\n",
        "\n",
        "draw_cube(ax, (6, 10), 1, depth, [1, 2, 3, 4, 5, 6, 7, 9, 10], '5', **solid)\n",
        "draw_cube(ax, (7, 10), 1, depth, [1, 2, 3, 6, 7, 9, 10, 11], '5', **dotted)\n",
        "draw_cube(ax, (8, 10), 1, depth, [1, 2, 3, 6, 7, 9, 10, 11], '5', **dotted)\n",
        "\n",
        "draw_cube(ax, (12, 10), 1, depth, [1, 2, 3, 4, 5, 6, 9], '5', **solid)\n",
        "draw_cube(ax, (13, 10), 1, depth, [1, 2, 3, 6, 9], '6', **solid)\n",
        "draw_cube(ax, (14, 10), 1, depth, [1, 2, 3, 6, 7, 9, 10], '7', **solid)\n",
        "\n",
        "ax.text(5, 10.5, '+', size=12, ha='center', va='center')\n",
        "ax.text(10.5, 10.5, '=', size=12, ha='center', va='center')\n",
        "ax.text(1, 11.5, r'${\\tt np.arange(3) + 5}$',\n",
        "        size=12, ha='left', va='bottom')\n",
        "\n",
        "#------------------------------------------------------------\n",
        "# Draw middle operation: matrix plus vector\n",
        "\n",
        "# first block\n",
        "draw_cube(ax, (1, 7.5), 1, depth, [1, 2, 3, 4, 5, 6, 9], '1', **solid)\n",
        "draw_cube(ax, (2, 7.5), 1, depth, [1, 2, 3, 6, 9], '1', **solid)\n",
        "draw_cube(ax, (3, 7.5), 1, depth, [1, 2, 3, 6, 7, 9, 10], '1', **solid)\n",
        "\n",
        "draw_cube(ax, (1, 6.5), 1, depth, [2, 3, 4], '1', **solid)\n",
        "draw_cube(ax, (2, 6.5), 1, depth, [2, 3], '1', **solid)\n",
        "draw_cube(ax, (3, 6.5), 1, depth, [2, 3, 7, 10], '1', **solid)\n",
        "\n",
        "draw_cube(ax, (1, 5.5), 1, depth, [2, 3, 4], '1', **solid)\n",
        "draw_cube(ax, (2, 5.5), 1, depth, [2, 3], '1', **solid)\n",
        "draw_cube(ax, (3, 5.5), 1, depth, [2, 3, 7, 10], '1', **solid)\n",
        "\n",
        "# second block\n",
        "draw_cube(ax, (6, 7.5), 1, depth, [1, 2, 3, 4, 5, 6, 9], '0', **solid)\n",
        "draw_cube(ax, (7, 7.5), 1, depth, [1, 2, 3, 6, 9], '1', **solid)\n",
        "draw_cube(ax, (8, 7.5), 1, depth, [1, 2, 3, 6, 7, 9, 10], '2', **solid)\n",
        "\n",
        "draw_cube(ax, (6, 6.5), 1, depth, range(2, 13), '0', **dotted)\n",
        "draw_cube(ax, (7, 6.5), 1, depth, [2, 3, 6, 7, 9, 10, 11], '1', **dotted)\n",
        "draw_cube(ax, (8, 6.5), 1, depth, [2, 3, 6, 7, 9, 10, 11], '2', **dotted)\n",
        "\n",
        "draw_cube(ax, (6, 5.5), 1, depth, [2, 3, 4, 7, 8, 10, 11, 12], '0', **dotted)\n",
        "draw_cube(ax, (7, 5.5), 1, depth, [2, 3, 7, 10, 11], '1', **dotted)\n",
        "draw_cube(ax, (8, 5.5), 1, depth, [2, 3, 7, 10, 11], '2', **dotted)\n",
        "\n",
        "# third block\n",
        "draw_cube(ax, (12, 7.5), 1, depth, [1, 2, 3, 4, 5, 6, 9], '1', **solid)\n",
        "draw_cube(ax, (13, 7.5), 1, depth, [1, 2, 3, 6, 9], '2', **solid)\n",
        "draw_cube(ax, (14, 7.5), 1, depth, [1, 2, 3, 6, 7, 9, 10], '3', **solid)\n",
        "\n",
        "draw_cube(ax, (12, 6.5), 1, depth, [2, 3, 4], '1', **solid)\n",
        "draw_cube(ax, (13, 6.5), 1, depth, [2, 3], '2', **solid)\n",
        "draw_cube(ax, (14, 6.5), 1, depth, [2, 3, 7, 10], '3', **solid)\n",
        "\n",
        "draw_cube(ax, (12, 5.5), 1, depth, [2, 3, 4], '1', **solid)\n",
        "draw_cube(ax, (13, 5.5), 1, depth, [2, 3], '2', **solid)\n",
        "draw_cube(ax, (14, 5.5), 1, depth, [2, 3, 7, 10], '3', **solid)\n",
        "\n",
        "ax.text(5, 7.0, '+', size=12, ha='center', va='center')\n",
        "ax.text(10.5, 7.0, '=', size=12, ha='center', va='center')\n",
        "ax.text(1, 9.0, r'${\\tt np.ones((3,\\, 3)) + np.arange(3)}$',\n",
        "        size=12, ha='left', va='bottom')\n",
        "\n",
        "#------------------------------------------------------------\n",
        "# Draw bottom operation: vector plus vector, double broadcast\n",
        "\n",
        "# first block\n",
        "draw_cube(ax, (1, 3), 1, depth, [1, 2, 3, 4, 5, 6, 7, 9, 10], '0', **solid)\n",
        "draw_cube(ax, (1, 2), 1, depth, [2, 3, 4, 7, 10], '1', **solid)\n",
        "draw_cube(ax, (1, 1), 1, depth, [2, 3, 4, 7, 10], '2', **solid)\n",
        "\n",
        "draw_cube(ax, (2, 3), 1, depth, [1, 2, 3, 6, 7, 9, 10, 11], '0', **dotted)\n",
        "draw_cube(ax, (2, 2), 1, depth, [2, 3, 7, 10, 11], '1', **dotted)\n",
        "draw_cube(ax, (2, 1), 1, depth, [2, 3, 7, 10, 11], '2', **dotted)\n",
        "\n",
        "draw_cube(ax, (3, 3), 1, depth, [1, 2, 3, 6, 7, 9, 10, 11], '0', **dotted)\n",
        "draw_cube(ax, (3, 2), 1, depth, [2, 3, 7, 10, 11], '1', **dotted)\n",
        "draw_cube(ax, (3, 1), 1, depth, [2, 3, 7, 10, 11], '2', **dotted)\n",
        "\n",
        "# second block\n",
        "draw_cube(ax, (6, 3), 1, depth, [1, 2, 3, 4, 5, 6, 9], '0', **solid)\n",
        "draw_cube(ax, (7, 3), 1, depth, [1, 2, 3, 6, 9], '1', **solid)\n",
        "draw_cube(ax, (8, 3), 1, depth, [1, 2, 3, 6, 7, 9, 10], '2', **solid)\n",
        "\n",
        "draw_cube(ax, (6, 2), 1, depth, range(2, 13), '0', **dotted)\n",
        "draw_cube(ax, (7, 2), 1, depth, [2, 3, 6, 7, 9, 10, 11], '1', **dotted)\n",
        "draw_cube(ax, (8, 2), 1, depth, [2, 3, 6, 7, 9, 10, 11], '2', **dotted)\n",
        "\n",
        "draw_cube(ax, (6, 1), 1, depth, [2, 3, 4, 7, 8, 10, 11, 12], '0', **dotted)\n",
        "draw_cube(ax, (7, 1), 1, depth, [2, 3, 7, 10, 11], '1', **dotted)\n",
        "draw_cube(ax, (8, 1), 1, depth, [2, 3, 7, 10, 11], '2', **dotted)\n",
        "\n",
        "# third block\n",
        "draw_cube(ax, (12, 3), 1, depth, [1, 2, 3, 4, 5, 6, 9], '0', **solid)\n",
        "draw_cube(ax, (13, 3), 1, depth, [1, 2, 3, 6, 9], '1', **solid)\n",
        "draw_cube(ax, (14, 3), 1, depth, [1, 2, 3, 6, 7, 9, 10], '2', **solid)\n",
        "\n",
        "draw_cube(ax, (12, 2), 1, depth, [2, 3, 4], '1', **solid)\n",
        "draw_cube(ax, (13, 2), 1, depth, [2, 3], '2', **solid)\n",
        "draw_cube(ax, (14, 2), 1, depth, [2, 3, 7, 10], '3', **solid)\n",
        "\n",
        "draw_cube(ax, (12, 1), 1, depth, [2, 3, 4], '2', **solid)\n",
        "draw_cube(ax, (13, 1), 1, depth, [2, 3], '3', **solid)\n",
        "draw_cube(ax, (14, 1), 1, depth, [2, 3, 7, 10], '4', **solid)\n",
        "\n",
        "ax.text(5, 2.5, '+', size=12, ha='center', va='center')\n",
        "ax.text(10.5, 2.5, '=', size=12, ha='center', va='center')\n",
        "ax.text(1, 4.5, r'${\\tt np.arange(3).reshape((3,\\, 1)) + np.arange(3)}$',\n",
        "        ha='left', size=12, va='bottom')\n",
        "\n",
        "ax.set_xlim(0, 16)\n",
        "ax.set_ylim(0.5, 12.5)\n",
        "print()"
      ],
      "execution_count": null,
      "outputs": [
        {
          "output_type": "stream",
          "text": [
            "\n"
          ],
          "name": "stdout"
        },
        {
          "output_type": "display_data",
          "data": {
            "image/png": "[encoded data removed]",
            "text/plain": [
              "<Figure size 432x324 with 1 Axes>"
            ]
          },
          "metadata": {
            "tags": []
          }
        }
      ]
    },
    {
      "cell_type": "markdown",
      "metadata": {
        "id": "hdySCy1VkuU9"
      },
      "source": [
        "## 2.2-3 Multiplying Matrices and Vectors and Identity and Inverse Matrices"
      ]
    },
    {
      "cell_type": "markdown",
      "metadata": {
        "id": "AxzdUmEC8h58"
      },
      "source": [
        "### Q4 [20 Points, H]\n",
        "Let $A$ be a $2 \\times 2$ matrix, if $A B=B A$ for every $B$ of the size $2 \\times 2$, Prove that:\n",
        "$$\n",
        "A=\\left[\\begin{array}{ll}\n",
        "a & 0 \\\\\n",
        "0 & a\n",
        "\\end{array}\\right], \\\n",
        "a \\in \\mathbb{R}\n",
        "$$\n"
      ]
    },
    {
      "cell_type": "markdown",
      "metadata": {
        "id": "zHnBAoAFGxe-"
      },
      "source": [
        "<span style='color:green'>\n",
        "$$\n",
        "\\begin{pmatrix} a_{11} & a_{12} \\\\ a_{21} & a_{22} \\end{pmatrix}\n",
        "\\begin{pmatrix} b_{11} & b_{12} \\\\ b_{21} & b_{22} \\end{pmatrix}=\n",
        "\\begin{pmatrix} b_{11} & b_{12} \\\\ b_{21} & b_{22} \\end{pmatrix}\n",
        "\\begin{pmatrix} a_{11} & a_{12} \\\\ a_{21} & a_{22} \\end{pmatrix} \\Rightarrow \\\\\n",
        "\\begin{cases}\\require{cancel}\\cancel{a_{11}b_{11}}+a_{12}b_{21}=\\cancel{b_{11}a_{11}}+b_{12}a_{21}\\\\\n",
        "a_{11}b_{12}+a_{12}b_{22}=b_{11}a_{12}+b_{12}a_{22}\\\\\n",
        "a_{21}b_{11}+a_{22}b_{21}=b_{21}a_{11}+b_{22}a_{21}\\\\\n",
        "a_{21}b_{12}+\\cancel{a_{22}b_{22}}=b_{21}a_{12}+\\cancel{b_{22}a_{22}}\\end{cases}\n",
        "$$\n",
        "\n",
        "Since $b_{12}$ and $b_{21}$ can be any number, in particular, $b_{12}=0$ and $b_{21} \\neq 0,$ we get:\n",
        "$a_{12}=0$\n",
        "Similarly, for $b_{12} \\neq 0$ and $b_{21}=0,$ we get $a_{21}=0$\n",
        "From $(2),$ since $a_{12}=0$ and $b_{12}$ is an arbitrary number, we get $a_{11} b_{12}=b_{12} a_{22} \\Rightarrow a_{11}=a_{22}$"
      ]
    },
    {
      "cell_type": "markdown",
      "metadata": {
        "id": "U-lmV3vBlLTP"
      },
      "source": [
        "## 2.4 Linear Dependence and Span"
      ]
    },
    {
      "cell_type": "markdown",
      "metadata": {
        "id": "RIeFUG06JJzN"
      },
      "source": [
        "### Q5 [10 Points, H]\n",
        "Prove that if a linear system of equations have two solutions, then it has infinitely many solutions."
      ]
    },
    {
      "cell_type": "markdown",
      "metadata": {
        "id": "ay06WxZnGxfA"
      },
      "source": [
        "Solution:\n",
        "\n",
        "Assume that we have $ Ax = b$\n",
        "\n",
        "If both $x$ and $y$ are the solutions, then $z=\\alpha \\boldsymbol{x}+(1-\\alpha) \\boldsymbol{y}$ is a solution for any real $\\alpha$. Since it holds for any real $\\alpha$, there are infinite number of solution possible. So, it is not possible to have more than one but less than infinetly many solutions for a particular b."
      ]
    },
    {
      "cell_type": "markdown",
      "metadata": {
        "id": "4-dlO3Z8LXVR"
      },
      "source": [
        "### Q6 [5 Points, M]\n",
        "Given $A x=0$, where $A \\in \\mathbb{R}^{m \\times n}$ is any matrix, and $x \\in \\mathbb{R}^{n}$ is a vector of unknown variables to be solved, what is the condition such that there is infinitely many solutions?"
      ]
    },
    {
      "cell_type": "markdown",
      "metadata": {
        "id": "a5ZCY6vZGxfC"
      },
      "source": [
        "Solution:\n",
        "\n",
        "Since it is a homogeneous system, the condition where there is infinitely many solutions is $m<n$ (i.e., where there are less equations than unknown)."
      ]
    },
    {
      "cell_type": "markdown",
      "metadata": {
        "id": "cKYMhAu3lbJo"
      },
      "source": [
        "## 2.5 Norms"
      ]
    },
    {
      "cell_type": "markdown",
      "metadata": {
        "id": "MTee3Wtg5fq5"
      },
      "source": [
        "### Q7 [15 Points, M]\n",
        "Prove that **Max Norm** follows these conditions,\n",
        "$$\n",
        "\\begin{align}\n",
        "f(\\boldsymbol{x})=0 \\Rightarrow \\boldsymbol{x}=\\mathbf{0} \\\\\n",
        "f(\\boldsymbol{x}+\\boldsymbol{y}) \\leq f(\\boldsymbol{x})+f(\\boldsymbol{y}) \\\\\n",
        "\\forall \\alpha \\in \\mathbb{R}, f(\\alpha \\boldsymbol{x})=|\\alpha| f(\\boldsymbol{x})\n",
        "\\end{align}\n",
        "$$"
      ]
    },
    {
      "cell_type": "markdown",
      "metadata": {
        "id": "VCQBP9cWGxfD"
      },
      "source": [
        "Solution:\n",
        "\n",
        "\n",
        " * $f(\\boldsymbol{x})=0 \\Rightarrow \\boldsymbol{x}=\\mathbf{0}$ : By definition of max norm, the absolute value of the element is simplified with the largest magnitude in the vector (i.e., $\\|x\\|_{\\infty}=\\max _{i}\\left|x_{i}\\right|$). Therefore, if $f(\\boldsymbol{x})=0$, $x$ should be also zero.\n",
        "\n",
        "    We can also prove it by thinking the case where $x\\neq0$ (i.e., at least one element of the vector $x$ is not equal to zero). Assume that $k$th element of x is non-zero. Then, with the max norm definition above, the max norm of any $i$th element would be greater or equal (if $k$th element is the largest magnitude) than $k$th element $\\|x\\|_{\\infty}=\\max _{i}\\left|x_{i}\\right| \\geq |x_k|$. Because of the nature of absolute value, these all would be greater than 0.\n",
        "\n",
        "* $f(\\boldsymbol{x}+\\boldsymbol{y}) \\leq f(\\boldsymbol{x})+f(\\boldsymbol{y})$ : This is the triangle inequality. We can prove that the max norm holds triangle inequality by applying the max norm to the left hand side.\n",
        "\n",
        "  $\\begin{aligned}\\|x+y\\|_{\\infty} &=\\max _{i}\\left|x_{i}+y_{i}\\right| \\\\ & \\leq \\max _{i}\\left(\\left|x_{i}\\right|+\\left|y_{i}\\right|\\right) \\\\ &=\\max _{i}\\left|x_{i}\\right|+\\max _{j}\\left|y_{j}\\right|=\\|x\\|_{\\infty}+\\|y\\|_{\\infty} \\end{aligned}$\n",
        "    \n",
        "\n",
        "* $\\forall \\alpha \\in \\mathbb{R}, f(\\alpha \\boldsymbol{x})=|\\alpha| f(\\boldsymbol{x})$\n",
        "\n",
        "$\\|\\alpha x\\|_{\\infty}=\\max _{i}\\left|\\alpha x_{i}\\right| = \\max _{i}\\left|\\alpha|\\left|x_{i}|=| \\alpha\\left|\\max _{i}\\right| x_{i}|=| \\alpha \\mid\\right\\| x \\|_{\\infty}\\right.$\n"
      ]
    },
    {
      "cell_type": "markdown",
      "metadata": {
        "id": "-Uum7oPKm673"
      },
      "source": [
        "## 2.6 Special Kinds of Matrices and Vectors"
      ]
    },
    {
      "cell_type": "markdown",
      "metadata": {
        "id": "VwA8mFK8idRa"
      },
      "source": [
        "### Q8 [10 Points, M]\n",
        "Solve the following system of equations,\n",
        "\n",
        "$$\n",
        "\\frac{1}{2}\\left[\\begin{array}{cccc}\n",
        "1 & 1 & 1 & 1 \\\\\n",
        "1 & 1 & -1 & -1 \\\\\n",
        "1 & -1 & 1 & -1 \\\\\n",
        "1 & -1 & -1 & 1\n",
        "\\end{array}\\right] \\left[\\begin{array}{c}\n",
        "x_{1} \\\\\n",
        "x_{2} \\\\\n",
        "x_{3} \\\\\n",
        "x_{4} \\\\\n",
        "\\end{array}\\right] = \\left[\\begin{array}{c}\n",
        "1 \\\\\n",
        "2 \\\\\n",
        "3 \\\\\n",
        "4 \\\\\n",
        "\\end{array}\\right]\n",
        "$$"
      ]
    },
    {
      "cell_type": "markdown",
      "metadata": {
        "id": "chZBsAaSGxfF"
      },
      "source": [
        "Solution:\n",
        "\n",
        "This is a symmetric  and orthonormal matrix. As a result, $ A = A^{T} $\n",
        "\n",
        "$$\n",
        "\\left[\\begin{array}{c}\n",
        "x_{1} \\\\\n",
        "x_{2} \\\\\n",
        "x_{3} \\\\\n",
        "x_{4} \\\\\n",
        "\\end{array}\\right] = \n",
        "\\frac{1}{2}\\left[\\begin{array}{cccc}\n",
        "1 & 1 & 1 & 1 \\\\\n",
        "1 & 1 & -1 & -1 \\\\\n",
        "1 & -1 & 1 & -1 \\\\\n",
        "1 & -1 & -1 & 1\n",
        "\\end{array}\\right] \\left[\\begin{array}{c}\n",
        "1 \\\\\n",
        "2 \\\\\n",
        "3 \\\\\n",
        "4 \\\\\n",
        "\\end{array}\\right] = \\left[\\begin{array}{c}\n",
        "5 \\\\\n",
        "-2 \\\\\n",
        "-1 \\\\\n",
        "0 \\\\\n",
        "\\end{array}\\right]\n",
        "$$\n"
      ]
    }
  ]
}
